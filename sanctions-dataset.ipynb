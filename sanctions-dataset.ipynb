{
 "cells": [
  {
   "cell_type": "code",
   "execution_count": 3,
   "id": "3719e143-d6cb-4d40-9a79-6ea7684c0444",
   "metadata": {},
   "outputs": [],
   "source": [
    "import polars as pl\n",
    "from ofac_sanctions.main import create_dataframe, create_dataset\n",
    "\n",
    "# Set the number of characters used to display string values.\n",
    "pl.Config(fmt_str_lengths=1000)\n",
    "\n",
    "# Set the maximum width of a table in characters.\n",
    "pl.Config(tbl_width_chars=1000)\n",
    "\n",
    "# Set the max number of rows used to draw the table (both Dataframe and Series).\n",
    "pl.Config.set_tbl_rows(100)\n",
    "\n",
    "# align columns to the left\n",
    "pl.Config.set_tbl_cell_alignment('LEFT')\n",
    "\n",
    "# Hide table column data types (i64, f64, str etc.).\n",
    "pl.Config.set_tbl_hide_column_data_types(True)\n",
    "\n",
    "# Hide the DataFrame shape information when displaying tables.\n",
    "pl.Config.set_tbl_hide_dataframe_shape(True)\n",
    "\n",
    "dataframe = create_dataframe(create_dataset(r'sdn.xml'))"
   ]
  },
  {
   "cell_type": "code",
   "execution_count": null,
   "id": "623e0fba-c376-4bdc-9be2-4c554c1fb85c",
   "metadata": {},
   "outputs": [],
   "source": [
    "# available columns\n",
    "dataframe.glimpse(max_items_per_column=1)\n",
    "\n",
    "for col in dataframe.columns:\n",
    "    dataframe.select(col).glimpse(max_items_per_column=1)"
   ]
  },
  {
   "cell_type": "code",
   "execution_count": null,
   "id": "8b3d941b-b78f-45e7-935b-05ea6b8e5ca9",
   "metadata": {},
   "outputs": [],
   "source": [
    "# Example query: sanctioned individual born on the year 2000\n",
    "(dataframe\n",
    " .filter(pl.col(\"dates_of_birth\") == \"2000\")\n",
    " .select(\"name\")\n",
    " .unique()\n",
    " .sort(by=\"name\"))"
   ]
  }
 ],
 "metadata": {
  "kernelspec": {
   "display_name": "Python 3 (ipykernel)",
   "language": "python",
   "name": "python3"
  },
  "language_info": {
   "codemirror_mode": {
    "name": "ipython",
    "version": 3
   },
   "file_extension": ".py",
   "mimetype": "text/x-python",
   "name": "python",
   "nbconvert_exporter": "python",
   "pygments_lexer": "ipython3",
   "version": "3.10.12"
  }
 },
 "nbformat": 4,
 "nbformat_minor": 5
}
